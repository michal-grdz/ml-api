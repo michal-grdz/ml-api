{
 "cells": [
  {
   "cell_type": "code",
   "execution_count": 33,
   "metadata": {
    "collapsed": true
   },
   "outputs": [],
   "source": [
    "import pandas as pd\n",
    "from sklearn.linear_model import ElasticNet\n",
    "from sklearn.svm import SVR\n",
    "import xgboost\n",
    "from scipy.spatial.distance import pdist, squareform\n",
    "import numpy as np\n",
    "from sklearn.model_selection import train_test_split\n",
    "from sklearn.metrics import mean_squared_error\n",
    "import os\n",
    "\n",
    "K = 10"
   ]
  },
  {
   "cell_type": "code",
   "execution_count": 34,
   "outputs": [
    {
     "data": {
      "text/plain": "   sepal.length  sepal.width  petal.length  petal.width\n0           5.1          3.5           1.4          0.2\n1           4.9          3.0           1.4          0.2\n2           4.7          3.2           1.3          0.2\n3           4.6          3.1           1.5          0.2\n4           5.0          3.6           1.4          0.2",
      "text/html": "<div>\n<style scoped>\n    .dataframe tbody tr th:only-of-type {\n        vertical-align: middle;\n    }\n\n    .dataframe tbody tr th {\n        vertical-align: top;\n    }\n\n    .dataframe thead th {\n        text-align: right;\n    }\n</style>\n<table border=\"1\" class=\"dataframe\">\n  <thead>\n    <tr style=\"text-align: right;\">\n      <th></th>\n      <th>sepal.length</th>\n      <th>sepal.width</th>\n      <th>petal.length</th>\n      <th>petal.width</th>\n    </tr>\n  </thead>\n  <tbody>\n    <tr>\n      <th>0</th>\n      <td>5.1</td>\n      <td>3.5</td>\n      <td>1.4</td>\n      <td>0.2</td>\n    </tr>\n    <tr>\n      <th>1</th>\n      <td>4.9</td>\n      <td>3.0</td>\n      <td>1.4</td>\n      <td>0.2</td>\n    </tr>\n    <tr>\n      <th>2</th>\n      <td>4.7</td>\n      <td>3.2</td>\n      <td>1.3</td>\n      <td>0.2</td>\n    </tr>\n    <tr>\n      <th>3</th>\n      <td>4.6</td>\n      <td>3.1</td>\n      <td>1.5</td>\n      <td>0.2</td>\n    </tr>\n    <tr>\n      <th>4</th>\n      <td>5.0</td>\n      <td>3.6</td>\n      <td>1.4</td>\n      <td>0.2</td>\n    </tr>\n  </tbody>\n</table>\n</div>"
     },
     "execution_count": 34,
     "metadata": {},
     "output_type": "execute_result"
    }
   ],
   "source": [
    "file_dir = os.path.dirname(os.path.realpath('__file__'))\n",
    "\n",
    "data = pd.read_csv(os.path.join(file_dir, 'data\\\\iris.csv'), delimiter=',', header=0)\n",
    "data = data.drop('variety', axis=1)\n",
    "\n",
    "data.head()"
   ],
   "metadata": {
    "collapsed": false,
    "pycharm": {
     "name": "#%%\n"
    }
   }
  },
  {
   "cell_type": "code",
   "execution_count": 35,
   "outputs": [
    {
     "data": {
      "text/plain": "   sepal.length  sepal.width  petal.length  petal.width       rep\n0           5.1          3.5           1.4          0.2  0.769231\n1           4.9          3.0           1.4          0.2  0.750941\n2           4.7          3.2           1.3          0.2  0.759747\n3           4.6          3.1           1.5          0.2  0.769231\n4           5.0          3.6           1.4          0.2  0.779519",
      "text/html": "<div>\n<style scoped>\n    .dataframe tbody tr th:only-of-type {\n        vertical-align: middle;\n    }\n\n    .dataframe tbody tr th {\n        vertical-align: top;\n    }\n\n    .dataframe thead th {\n        text-align: right;\n    }\n</style>\n<table border=\"1\" class=\"dataframe\">\n  <thead>\n    <tr style=\"text-align: right;\">\n      <th></th>\n      <th>sepal.length</th>\n      <th>sepal.width</th>\n      <th>petal.length</th>\n      <th>petal.width</th>\n      <th>rep</th>\n    </tr>\n  </thead>\n  <tbody>\n    <tr>\n      <th>0</th>\n      <td>5.1</td>\n      <td>3.5</td>\n      <td>1.4</td>\n      <td>0.2</td>\n      <td>0.769231</td>\n    </tr>\n    <tr>\n      <th>1</th>\n      <td>4.9</td>\n      <td>3.0</td>\n      <td>1.4</td>\n      <td>0.2</td>\n      <td>0.750941</td>\n    </tr>\n    <tr>\n      <th>2</th>\n      <td>4.7</td>\n      <td>3.2</td>\n      <td>1.3</td>\n      <td>0.2</td>\n      <td>0.759747</td>\n    </tr>\n    <tr>\n      <th>3</th>\n      <td>4.6</td>\n      <td>3.1</td>\n      <td>1.5</td>\n      <td>0.2</td>\n      <td>0.769231</td>\n    </tr>\n    <tr>\n      <th>4</th>\n      <td>5.0</td>\n      <td>3.6</td>\n      <td>1.4</td>\n      <td>0.2</td>\n      <td>0.779519</td>\n    </tr>\n  </tbody>\n</table>\n</div>"
     },
     "execution_count": 35,
     "metadata": {},
     "output_type": "execute_result"
    }
   ],
   "source": [
    "distances = pdist(data.values, metric='euclidean')\n",
    "dist_matrix = squareform(distances)\n",
    "\n",
    "rep = []\n",
    "for row in dist_matrix:\n",
    "    mean_dist = np.mean(np.sort(row)[K])\n",
    "\n",
    "    represent = 1 / (1 + mean_dist)\n",
    "\n",
    "    rep.append(represent)\n",
    "\n",
    "data['rep'] = rep\n",
    "data.head()"
   ],
   "metadata": {
    "collapsed": false,
    "pycharm": {
     "name": "#%%\n"
    }
   }
  },
  {
   "cell_type": "code",
   "execution_count": 36,
   "outputs": [],
   "source": [
    "X = data.iloc[:, :-1]\n",
    "y = data.iloc[:, -1]\n",
    "\n",
    "# split the dataset\n",
    "\n",
    "X_train, X_test, y_train, y_test = train_test_split(X, y, test_size=0.15, random_state=0)"
   ],
   "metadata": {
    "collapsed": false,
    "pycharm": {
     "name": "#%%\n"
    }
   }
  },
  {
   "cell_type": "markdown",
   "source": [
    "### Model Selection"
   ],
   "metadata": {
    "collapsed": false,
    "pycharm": {
     "name": "#%% md\n"
    }
   }
  },
  {
   "cell_type": "code",
   "execution_count": 37,
   "outputs": [
    {
     "name": "stdout",
     "output_type": "stream",
     "text": [
      "Support Vector Machine MSE:  0.0027735417341868667 \n",
      " Elastic Net MSE:  0.004542296300686732 \n",
      " XGBoost MSE:  0.001602397165373108\n"
     ]
    }
   ],
   "source": [
    "# Using the models with default parameters\n",
    "\n",
    "svr = SVR()\n",
    "enet = ElasticNet()\n",
    "xgb = xgboost.XGBRegressor()\n",
    "\n",
    "svr.fit(X_train, y_train)\n",
    "enet.fit(X_train, y_train)\n",
    "xgb.fit(X_train, y_train)\n",
    "\n",
    "pred_svr = svr.predict(X_test)\n",
    "pred_enet = enet.predict(X_test)\n",
    "pred_xgb = xgb.predict(X_test)\n",
    "\n",
    "mse_svr = mean_squared_error(y_test, pred_svr)\n",
    "mse_enet = mean_squared_error(y_test, pred_enet)\n",
    "mse_xgb = mean_squared_error(y_test, pred_xgb)\n",
    "\n",
    "print(\"Support Vector Machine MSE: \", mse_svr, \"\\n Elastic Net MSE: \", mse_enet, \"\\n XGBoost MSE: \", mse_xgb)"
   ],
   "metadata": {
    "collapsed": false,
    "pycharm": {
     "name": "#%%\n"
    }
   }
  },
  {
   "cell_type": "markdown",
   "source": [
    "## XGBoost achieves best results, therefore I will use it in the final API.\n",
    "I will continue using default parameters, beacuse the model already achieves satysfying performance."
   ],
   "metadata": {
    "collapsed": false,
    "pycharm": {
     "name": "#%% md\n"
    }
   }
  },
  {
   "cell_type": "markdown",
   "source": [
    "### Optimizing hyper-parameters"
   ],
   "metadata": {
    "collapsed": false,
    "pycharm": {
     "name": "#%% md\n"
    }
   }
  },
  {
   "cell_type": "code",
   "execution_count": 38,
   "outputs": [
    {
     "data": {
      "text/plain": "{'K': 5, 'L': 2, 'min_mse': 0.0021318575960917324}"
     },
     "execution_count": 38,
     "metadata": {},
     "output_type": "execute_result"
    }
   ],
   "source": [
    "#In the algorithm, there are 2 external parameters: K and L. I will find the optimal value of these parameters.\n",
    "\n",
    "def calculate_mse(data):\n",
    "    xgb = xgboost.XGBRegressor()\n",
    "    X_train_split, X_test_split, y_train_split, y_test_split = train_test_split(data.iloc[:, :-1], data.iloc[:,-1], test_size=0.1, random_state=0)\n",
    "    xgb.fit(X_train_split, y_train_split)\n",
    "\n",
    "    pred_xgb = xgb.predict(X_test)\n",
    "\n",
    "    return mean_squared_error(y_test, pred_xgb)\n",
    "\n",
    "min_mse = 1\n",
    "for K in range(1,12):\n",
    "    for L in range(1,10):\n",
    "        shuffled = X_train.sample(frac=1)\n",
    "        data_split = np.array_split(shuffled, L)\n",
    "\n",
    "        for split in data_split :\n",
    "            distances = pdist(split.values, metric='euclidean')\n",
    "            dist_matrix = squareform(distances)\n",
    "\n",
    "            rep = []\n",
    "            for row in dist_matrix:\n",
    "                mean_dist = np.mean(np.sort(row)[K])\n",
    "\n",
    "                represent = 1 / (1 + mean_dist)\n",
    "\n",
    "                rep.append(represent)\n",
    "\n",
    "            split['rep'] = rep\n",
    "\n",
    "\n",
    "            mse_split = calculate_mse(data=split)\n",
    "\n",
    "            if mse_split < min_mse :\n",
    "                min_mse = mse_split\n",
    "                ans = {'K':K, 'L':L, \"min_mse\":min_mse}\n",
    "\n",
    "ans"
   ],
   "metadata": {
    "collapsed": false,
    "pycharm": {
     "name": "#%%\n"
    }
   }
  },
  {
   "cell_type": "markdown",
   "source": [
    "## {'K': 5, 'L': 2, 'min_mse': 0.0021318575960917324} are the optimal parameters"
   ],
   "metadata": {
    "collapsed": false,
    "pycharm": {
     "name": "#%% md\n"
    }
   }
  }
 ],
 "metadata": {
  "kernelspec": {
   "display_name": "Python 3",
   "language": "python",
   "name": "python3"
  },
  "language_info": {
   "codemirror_mode": {
    "name": "ipython",
    "version": 2
   },
   "file_extension": ".py",
   "mimetype": "text/x-python",
   "name": "python",
   "nbconvert_exporter": "python",
   "pygments_lexer": "ipython2",
   "version": "2.7.6"
  }
 },
 "nbformat": 4,
 "nbformat_minor": 0
}